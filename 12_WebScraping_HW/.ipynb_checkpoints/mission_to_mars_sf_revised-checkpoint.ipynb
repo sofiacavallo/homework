{
 "cells": [
  {
   "cell_type": "code",
   "execution_count": 1,
   "metadata": {},
   "outputs": [],
   "source": [
    "# # Initial scraping using Jupyter Notebook, BeautifulSoup, Pandas, and Requests/Splinter.\n",
    "# import sys\n",
    "# !{sys.executable} -m pip install pymongo"
   ]
  },
  {
   "cell_type": "code",
   "execution_count": 2,
   "metadata": {},
   "outputs": [],
   "source": [
    "# Import dependencies \n",
    "from bs4 import BeautifulSoup\n",
    "from splinter import Browser\n",
    "import pymongo\n",
    "import requests\n",
    "import pandas as pd\n",
    "import time"
   ]
  },
  {
   "cell_type": "code",
   "execution_count": 3,
   "metadata": {},
   "outputs": [],
   "source": [
    "# Set up splinter browser\n",
    "executable_path = {'executable_path': 'C:/Users/19143/Desktop/chromedriver.exe'}\n",
    "browser = Browser('chrome', **executable_path, headless=False)"
   ]
  },
  {
   "cell_type": "markdown",
   "metadata": {},
   "source": [
    "NASA MARS NEWS"
   ]
  },
  {
   "cell_type": "code",
   "execution_count": 4,
   "metadata": {},
   "outputs": [],
   "source": [
    "# NASA MARS NEWS SCRAPING\n",
    "\n",
    "# Visit URL\n",
    "executable_path = {'executable_path': 'C:/Users/19143/Desktop/chromedriver.exe'}\n",
    "browser = Browser('chrome', **executable_path, headless=False)\n",
    "nasa_url = \"https://mars.nasa.gov/news/\"\n",
    "\n",
    "# Put url into search bar\n",
    "browser.visit(nasa_url)\n",
    "# Load the page\n",
    "# Wait for 3 secs\n",
    "time.sleep(3)\n",
    "\n",
    "# Pull html \n",
    "nasa_html = browser.html\n",
    "\n",
    "# Parse HTML using BeautifulSoup\n",
    "soup = BeautifulSoup(nasa_html, \"html.parser\")\n",
    "browser.quit()"
   ]
  },
  {
   "cell_type": "code",
   "execution_count": 5,
   "metadata": {},
   "outputs": [],
   "source": [
    "#soup.find_all('a')[0]"
   ]
  },
  {
   "cell_type": "code",
   "execution_count": 6,
   "metadata": {},
   "outputs": [
    {
     "name": "stdout",
     "output_type": "stream",
     "text": [
      "Want to Colonize Mars? Aerogel Could Help\n",
      "Researchers are studying whether a wonder material used in Mars rovers could help warm parts of the Red Planet rich in water ice.\n"
     ]
    }
   ],
   "source": [
    "# Grab information of interest (article title and teaser copy)\n",
    "news_title = soup.find('div', class_=\"content_title\").text\n",
    "news_teaser = soup.find('div', class_=\"article_teaser_body\").text\n",
    "\n",
    "# Test print to check work\n",
    "print(news_title)\n",
    "print(news_teaser) "
   ]
  },
  {
   "cell_type": "markdown",
   "metadata": {},
   "source": [
    "JPL MARS SPACE IMAGES (FEATURED IMAGE)"
   ]
  },
  {
   "cell_type": "code",
   "execution_count": 7,
   "metadata": {},
   "outputs": [],
   "source": [
    "# Visit URL\n",
    "executable_path = {'executable_path': 'C:/Users/19143/Desktop/chromedriver.exe'}\n",
    "browser = Browser('chrome', **executable_path, headless=False)\n",
    "jpl_url = \"https://www.jpl.nasa.gov/spaceimages/?search=&category=Mars\"\n",
    "\n",
    "# Put url into search bar\n",
    "browser.visit(jpl_url)\n",
    "# Load the page\n",
    "# Set wait time to 3 secs so that you don't wait for the entire page's HTML to load (you only need latest data elements)\n",
    "time.sleep(3)\n",
    "\n",
    "# Pull HTML\n",
    "jpl_html = browser.html\n",
    "\n",
    "# Parse HTML using BeautifulSoup\n",
    "soup = BeautifulSoup(jpl_html, \"html.parser\")\n",
    "browser.quit()"
   ]
  },
  {
   "cell_type": "code",
   "execution_count": 11,
   "metadata": {},
   "outputs": [
    {
     "data": {
      "text/plain": [
       "'/spaceimages/images/wallpaper/PIA08097-1920x1200.jpg'"
      ]
     },
     "execution_count": 11,
     "metadata": {},
     "output_type": "execute_result"
    }
   ],
   "source": [
    "# Find the information of interest (featured image) and create relative path for it\n",
    "featured_image = soup.find('article', class_= \"carousel_item\") \n",
    "style = featured_image['style']\n",
    "relative_path = style.split(\"'\")[1]\n",
    "relative_path"
   ]
  },
  {
   "cell_type": "code",
   "execution_count": 12,
   "metadata": {},
   "outputs": [
    {
     "name": "stdout",
     "output_type": "stream",
     "text": [
      "https://www.jpl.nasa.gov/spaceimages/images/wallpaper/PIA08097-1920x1200.jpg\n"
     ]
    }
   ],
   "source": [
    "# Create a full URL for the image path.\n",
    "full_path = \"https://www.jpl.nasa.gov\" + relative_path\n",
    "\n",
    "# Test print to check work\n",
    "print(full_path)"
   ]
  },
  {
   "cell_type": "markdown",
   "metadata": {},
   "source": [
    "MARS WEATHER"
   ]
  },
  {
   "cell_type": "code",
   "execution_count": 15,
   "metadata": {},
   "outputs": [
    {
     "name": "stdout",
     "output_type": "stream",
     "text": [
      "InSight sol 222 (2019-07-12) low -99.7ºC (-147.5ºF) high -24.8ºC (-12.6ºF)\n",
      "winds from the SSE at 4.2 m/s (9.4 mph) gusting to 15.6 m/s (34.8 mph)\n",
      "pressure at 7.60 hPapic.twitter.com/8Q8lyB6SjM\n"
     ]
    }
   ],
   "source": [
    "# Visit URL\n",
    "executable_path = {'executable_path': 'C:/Users/19143/Desktop/chromedriver.exe'}\n",
    "browser = Browser('chrome', **executable_path, headless=False)\n",
    "marsweather_url = \"https://twitter.com/marswxreport?lang=en\"\n",
    "\n",
    "# Put url into search bar\n",
    "browser.visit(marsweather_url)\n",
    "\n",
    "# Load the page\n",
    "# Set wait time to 3 secs so that you don't wait for the entire page's HTML to load (you only need latest data elements)\n",
    "time.sleep(3)\n",
    "\n",
    "# Pull HTML\n",
    "marsweather_html = browser.html\n",
    "\n",
    "# Parse HTML using BeautifulSoup\n",
    "soup = BeautifulSoup(marsweather_html, \"html.parser\")\n",
    "browser.quit()\n",
    "\n",
    "# Grab information of interest (weather)\n",
    "marsweather = soup.find('p', class_=\"TweetTextSize TweetTextSize--normal js-tweet-text tweet-text\").text\n",
    "\n",
    "###### ADD CONDITION TO INCLUDE TWEETS THAT HAVE \"InSight Sol\", IF NOT, pASS################\n",
    "\n",
    "# Test print to check work\n",
    "print(marsweather)\n"
   ]
  },
  {
   "cell_type": "markdown",
   "metadata": {},
   "source": [
    "MARS FACTS"
   ]
  },
  {
   "cell_type": "code",
   "execution_count": 22,
   "metadata": {},
   "outputs": [
    {
     "name": "stdout",
     "output_type": "stream",
     "text": [
      "[]\n"
     ]
    }
   ],
   "source": [
    "# Visit URL\n",
    "executable_path = {'executable_path': 'C:/Users/19143/Desktop/chromedriver.exe'}\n",
    "browser = Browser('chrome', **executable_path, headless=False)\n",
    "marsfacts_url = \"https://space-facts.com/mars/\"\n",
    "\n",
    "# Put url into search bar\n",
    "browser.visit(marsfacts_url)\n",
    "\n",
    "# Load the page\n",
    "# Set wait time to 3 secs so that you don't wait for the entire page's HTML to load (you only need latest data elements)\n",
    "time.sleep(3)\n",
    "\n",
    "# Pull HTML\n",
    "marsfacts_html = browser.html\n",
    "\n",
    "# Parse HTML using BeautifulSoup\n",
    "soup = BeautifulSoup(marsfacts_html, \"html.parser\")\n",
    "browser.quit()\n",
    "\n",
    "# Grab information of interest (table containing facts)\n",
    "\n",
    "\n",
    "# Test print to check work\n",
    "print(marsfacts)\n",
    "\n"
   ]
  },
  {
   "cell_type": "code",
   "execution_count": 32,
   "metadata": {},
   "outputs": [],
   "source": [
    "import pandas as pd\n",
    "result = pd.read_html('https://space-facts.com/mars/')"
   ]
  },
  {
   "cell_type": "code",
   "execution_count": 33,
   "metadata": {},
   "outputs": [
    {
     "data": {
      "text/plain": [
       "[  Mars - Earth Comparison             Mars            Earth\n",
       " 0               Diameter:         6,779 km        12,742 km\n",
       " 1                   Mass:  6.39 × 10^23 kg  5.97 × 10^24 kg\n",
       " 2                  Moons:                2                1\n",
       " 3      Distance from Sun:   227,943,824 km   149,598,262 km\n",
       " 4         Length of Year:   687 Earth days      365.24 days\n",
       " 5            Temperature:    -153 to 20 °C      -88 to 58°C,\n",
       "                       0                              1\n",
       " 0  Equatorial Diameter:                       6,792 km\n",
       " 1       Polar Diameter:                       6,752 km\n",
       " 2                 Mass:  6.39 × 10^23 kg (0.11 Earths)\n",
       " 3                Moons:            2 (Phobos & Deimos)\n",
       " 4       Orbit Distance:       227,943,824 km (1.38 AU)\n",
       " 5         Orbit Period:           687 days (1.9 years)\n",
       " 6  Surface Temperature:                   -87 to -5 °C\n",
       " 7         First Record:              2nd millennium BC\n",
       " 8          Recorded By:           Egyptian astronomers]"
      ]
     },
     "execution_count": 33,
     "metadata": {},
     "output_type": "execute_result"
    }
   ],
   "source": [
    "result"
   ]
  },
  {
   "cell_type": "code",
   "execution_count": null,
   "metadata": {},
   "outputs": [],
   "source": [
    "############## list to data frame https://thispointer.com/python-pandas-how-to-convert-lists-to-a-dataframe/"
   ]
  },
  {
   "cell_type": "code",
   "execution_count": 29,
   "metadata": {},
   "outputs": [
    {
     "data": {
      "text/plain": [
       "<div class=\"textwidget\"><table class=\"tablepress tablepress-id-p-mars\" id=\"tablepress-p-mars\"><tbody><tr class=\"row-1 odd\"><td class=\"column-1\"><strong>Equatorial Diameter:</strong></td><td class=\"column-2\">6,792 km<br/></td></tr><tr class=\"row-2 even\"><td class=\"column-1\"><strong>Polar Diameter:</strong></td><td class=\"column-2\">6,752 km<br/></td></tr><tr class=\"row-3 odd\"><td class=\"column-1\"><strong>Mass:</strong></td><td class=\"column-2\">6.39 × 10^23 kg<br/> (0.11 Earths)</td></tr><tr class=\"row-4 even\"><td class=\"column-1\"><strong>Moons:</strong></td><td class=\"column-2\">2 (<a href=\"https://space-facts.com/moons/phobos/\">Phobos</a> &amp; <a href=\"https://space-facts.com/moons/deimos/\">Deimos</a>)</td></tr><tr class=\"row-5 odd\"><td class=\"column-1\"><strong>Orbit Distance:</strong></td><td class=\"column-2\">227,943,824 km<br/> (1.38 AU)</td></tr><tr class=\"row-6 even\"><td class=\"column-1\"><strong>Orbit Period:</strong></td><td class=\"column-2\">687 days (1.9 years)<br/></td></tr><tr class=\"row-7 odd\"><td class=\"column-1\"><strong>Surface Temperature: </strong></td><td class=\"column-2\">-87 to -5 °C</td></tr><tr class=\"row-8 even\"><td class=\"column-1\"><strong>First Record:</strong></td><td class=\"column-2\">2nd millennium BC</td></tr><tr class=\"row-9 odd\"><td class=\"column-1\"><strong>Recorded By:</strong></td><td class=\"column-2\">Egyptian astronomers</td></tr></tbody></table> <!-- #tablepress-p-mars from cache --></div>"
      ]
     },
     "execution_count": 29,
     "metadata": {},
     "output_type": "execute_result"
    }
   ],
   "source": [
    "soup.find_all('div', class_=\"textwidget\")[3]"
   ]
  },
  {
   "cell_type": "markdown",
   "metadata": {},
   "source": [
    "marsfacts = soup.find_all('table', id_=\"tablepress-p-mars\")"
   ]
  },
  {
   "cell_type": "markdown",
   "metadata": {},
   "source": [
    "MARS HEMISPHERES"
   ]
  },
  {
   "cell_type": "code",
   "execution_count": 17,
   "metadata": {},
   "outputs": [],
   "source": [
    "# Visit URL\n",
    "executable_path = {'executable_path': 'C:/Users/19143/Desktop/chromedriver.exe'}\n",
    "browser = Browser('chrome', **executable_path, headless=False)\n",
    "hemispheres_url = \"https://astrogeology.usgs.gov/search/results?q=hemisphere+enhanced&k1=target&v1=Mars\"\n",
    "\n",
    "# Put url into search bar\n",
    "browser.visit(hemispheres_url)\n",
    "\n",
    "# Load the page\n",
    "# Set wait time to 3 secs so that you don't wait for the entire page's HTML to load (you only need latest data elements)\n",
    "time.sleep(3)\n",
    "\n",
    "# Pull HTML\n",
    "hemispheres_html = browser.html\n",
    "\n",
    "# Parse HTML using BeautifulSoup\n",
    "soup = BeautifulSoup(hemispheres_html, \"html.parser\")\n",
    "browser.quit()\n",
    "\n",
    "# Grab information of interest (items with hemispheres information) and create a list for hemisphere image URLs.\n",
    "items = soup.find_all('div', class_='item')\n",
    "hemisphere_image_urls = []"
   ]
  },
  {
   "cell_type": "code",
   "execution_count": null,
   "metadata": {},
   "outputs": [],
   "source": [
    "# Store the full URL path as a variable\n",
    "hemispheres_full_url = 'https://astrogeology.usgs.gov/'\n",
    "\n",
    "# Run a for-loop to grab the thumb image URLs and modify them to be the full jpgs.\n",
    "for i in items:\n",
    "    # Store title\n",
    "    title = i.find('alt').text\n",
    "    \n",
    "    # Store URL for full image\n",
    "\n",
    "    \n",
    "--> go to full image URL and scrape there? or scrape from this page and remove/appent full image attributes? \n",
    "    \n",
    "featured_image = soup.find('article', class_= \"carousel_item\") \n",
    "style = featured_image['style']\n",
    "relative_path = style.split(\"'\")[1]\n",
    "relative_path\n",
    "\n",
    "# Test print to check work\n",
    "print(hemisphere_image_urls)"
   ]
  }
 ],
 "metadata": {
  "kernel_info": {
   "name": "python3"
  },
  "kernelspec": {
   "display_name": "Python 3",
   "language": "python",
   "name": "python3"
  },
  "language_info": {
   "codemirror_mode": {
    "name": "ipython",
    "version": 3
   },
   "file_extension": ".py",
   "mimetype": "text/x-python",
   "name": "python",
   "nbconvert_exporter": "python",
   "pygments_lexer": "ipython3",
   "version": "3.6.8"
  },
  "nteract": {
   "version": "0.12.3"
  },
  "varInspector": {
   "cols": {
    "lenName": 16,
    "lenType": 16,
    "lenVar": 40
   },
   "kernels_config": {
    "python": {
     "delete_cmd_postfix": "",
     "delete_cmd_prefix": "del ",
     "library": "var_list.py",
     "varRefreshCmd": "print(var_dic_list())"
    },
    "r": {
     "delete_cmd_postfix": ") ",
     "delete_cmd_prefix": "rm(",
     "library": "var_list.r",
     "varRefreshCmd": "cat(var_dic_list()) "
    }
   },
   "types_to_exclude": [
    "module",
    "function",
    "builtin_function_or_method",
    "instance",
    "_Feature"
   ],
   "window_display": false
  }
 },
 "nbformat": 4,
 "nbformat_minor": 2
}
