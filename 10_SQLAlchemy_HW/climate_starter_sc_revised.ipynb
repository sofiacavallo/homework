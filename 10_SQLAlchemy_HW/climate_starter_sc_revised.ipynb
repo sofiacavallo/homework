{
 "cells": [
  {
   "cell_type": "code",
   "execution_count": 1,
   "metadata": {},
   "outputs": [],
   "source": [
    "%matplotlib inline\n",
    "from matplotlib import style\n",
    "style.use('fivethirtyeight')\n",
    "import matplotlib.pyplot as plt"
   ]
  },
  {
   "cell_type": "code",
   "execution_count": 2,
   "metadata": {},
   "outputs": [],
   "source": [
    "import numpy as np\n",
    "import pandas as pd"
   ]
  },
  {
   "cell_type": "code",
   "execution_count": 3,
   "metadata": {},
   "outputs": [],
   "source": [
    "import datetime as dt"
   ]
  },
  {
   "cell_type": "markdown",
   "metadata": {},
   "source": [
    "# Reflect Tables into SQLAlchemy ORM"
   ]
  },
  {
   "cell_type": "code",
   "execution_count": 4,
   "metadata": {},
   "outputs": [],
   "source": [
    "# Python SQL toolkit and Object Relational Mapper\n",
    "import sqlalchemy\n",
    "from sqlalchemy.ext.automap import automap_base\n",
    "from sqlalchemy.orm import Session\n",
    "from sqlalchemy import create_engine, func"
   ]
  },
  {
   "cell_type": "code",
   "execution_count": 5,
   "metadata": {},
   "outputs": [],
   "source": [
    "engine = create_engine(\"sqlite:///hawaii.sqlite\")"
   ]
  },
  {
   "cell_type": "code",
   "execution_count": 6,
   "metadata": {},
   "outputs": [],
   "source": [
    "# reflect an existing database into a new model\n",
    "Base = automap_base()\n",
    "# reflect the tables\n",
    "Base.prepare(engine, reflect=True)"
   ]
  },
  {
   "cell_type": "code",
   "execution_count": 7,
   "metadata": {},
   "outputs": [
    {
     "data": {
      "text/plain": [
       "['measurement', 'station']"
      ]
     },
     "execution_count": 7,
     "metadata": {},
     "output_type": "execute_result"
    }
   ],
   "source": [
    "# We can view all of the classes that automap found\n",
    "Base.classes.keys()"
   ]
  },
  {
   "cell_type": "code",
   "execution_count": 8,
   "metadata": {},
   "outputs": [],
   "source": [
    "# Save references to each table\n",
    "measurement = Base.classes.measurement\n",
    "station = Base.classes.station"
   ]
  },
  {
   "cell_type": "code",
   "execution_count": 9,
   "metadata": {},
   "outputs": [],
   "source": [
    "# Create our session (link) from Python to the DB\n",
    "session = Session(engine)"
   ]
  },
  {
   "cell_type": "code",
   "execution_count": 10,
   "metadata": {},
   "outputs": [
    {
     "data": {
      "text/html": [
       "<div>\n",
       "<style scoped>\n",
       "    .dataframe tbody tr th:only-of-type {\n",
       "        vertical-align: middle;\n",
       "    }\n",
       "\n",
       "    .dataframe tbody tr th {\n",
       "        vertical-align: top;\n",
       "    }\n",
       "\n",
       "    .dataframe thead th {\n",
       "        text-align: right;\n",
       "    }\n",
       "</style>\n",
       "<table border=\"1\" class=\"dataframe\">\n",
       "  <thead>\n",
       "    <tr style=\"text-align: right;\">\n",
       "      <th></th>\n",
       "      <th>id</th>\n",
       "      <th>station</th>\n",
       "      <th>date</th>\n",
       "      <th>prcp</th>\n",
       "      <th>tobs</th>\n",
       "    </tr>\n",
       "  </thead>\n",
       "  <tbody>\n",
       "    <tr>\n",
       "      <th>0</th>\n",
       "      <td>1</td>\n",
       "      <td>USC00519397</td>\n",
       "      <td>2010-01-01</td>\n",
       "      <td>0.08</td>\n",
       "      <td>65.0</td>\n",
       "    </tr>\n",
       "    <tr>\n",
       "      <th>1</th>\n",
       "      <td>2</td>\n",
       "      <td>USC00519397</td>\n",
       "      <td>2010-01-02</td>\n",
       "      <td>0.00</td>\n",
       "      <td>63.0</td>\n",
       "    </tr>\n",
       "    <tr>\n",
       "      <th>2</th>\n",
       "      <td>3</td>\n",
       "      <td>USC00519397</td>\n",
       "      <td>2010-01-03</td>\n",
       "      <td>0.00</td>\n",
       "      <td>74.0</td>\n",
       "    </tr>\n",
       "    <tr>\n",
       "      <th>3</th>\n",
       "      <td>4</td>\n",
       "      <td>USC00519397</td>\n",
       "      <td>2010-01-04</td>\n",
       "      <td>0.00</td>\n",
       "      <td>76.0</td>\n",
       "    </tr>\n",
       "    <tr>\n",
       "      <th>4</th>\n",
       "      <td>5</td>\n",
       "      <td>USC00519397</td>\n",
       "      <td>2010-01-06</td>\n",
       "      <td>NaN</td>\n",
       "      <td>73.0</td>\n",
       "    </tr>\n",
       "  </tbody>\n",
       "</table>\n",
       "</div>"
      ],
      "text/plain": [
       "   id      station        date  prcp  tobs\n",
       "0   1  USC00519397  2010-01-01  0.08  65.0\n",
       "1   2  USC00519397  2010-01-02  0.00  63.0\n",
       "2   3  USC00519397  2010-01-03  0.00  74.0\n",
       "3   4  USC00519397  2010-01-04  0.00  76.0\n",
       "4   5  USC00519397  2010-01-06   NaN  73.0"
      ]
     },
     "execution_count": 10,
     "metadata": {},
     "output_type": "execute_result"
    }
   ],
   "source": [
    "# Print Measurement table to understand data you are working with.\n",
    "import pandas as pd\n",
    "df_measurement = pd.read_sql('select * from measurement', engine)\n",
    "df_measurement.head()"
   ]
  },
  {
   "cell_type": "code",
   "execution_count": 11,
   "metadata": {},
   "outputs": [
    {
     "data": {
      "text/html": [
       "<div>\n",
       "<style scoped>\n",
       "    .dataframe tbody tr th:only-of-type {\n",
       "        vertical-align: middle;\n",
       "    }\n",
       "\n",
       "    .dataframe tbody tr th {\n",
       "        vertical-align: top;\n",
       "    }\n",
       "\n",
       "    .dataframe thead th {\n",
       "        text-align: right;\n",
       "    }\n",
       "</style>\n",
       "<table border=\"1\" class=\"dataframe\">\n",
       "  <thead>\n",
       "    <tr style=\"text-align: right;\">\n",
       "      <th></th>\n",
       "      <th>id</th>\n",
       "      <th>station</th>\n",
       "      <th>name</th>\n",
       "      <th>latitude</th>\n",
       "      <th>longitude</th>\n",
       "      <th>elevation</th>\n",
       "    </tr>\n",
       "  </thead>\n",
       "  <tbody>\n",
       "    <tr>\n",
       "      <th>0</th>\n",
       "      <td>1</td>\n",
       "      <td>USC00519397</td>\n",
       "      <td>WAIKIKI 717.2, HI US</td>\n",
       "      <td>21.2716</td>\n",
       "      <td>-157.8168</td>\n",
       "      <td>3.0</td>\n",
       "    </tr>\n",
       "    <tr>\n",
       "      <th>1</th>\n",
       "      <td>2</td>\n",
       "      <td>USC00513117</td>\n",
       "      <td>KANEOHE 838.1, HI US</td>\n",
       "      <td>21.4234</td>\n",
       "      <td>-157.8015</td>\n",
       "      <td>14.6</td>\n",
       "    </tr>\n",
       "    <tr>\n",
       "      <th>2</th>\n",
       "      <td>3</td>\n",
       "      <td>USC00514830</td>\n",
       "      <td>KUALOA RANCH HEADQUARTERS 886.9, HI US</td>\n",
       "      <td>21.5213</td>\n",
       "      <td>-157.8374</td>\n",
       "      <td>7.0</td>\n",
       "    </tr>\n",
       "    <tr>\n",
       "      <th>3</th>\n",
       "      <td>4</td>\n",
       "      <td>USC00517948</td>\n",
       "      <td>PEARL CITY, HI US</td>\n",
       "      <td>21.3934</td>\n",
       "      <td>-157.9751</td>\n",
       "      <td>11.9</td>\n",
       "    </tr>\n",
       "    <tr>\n",
       "      <th>4</th>\n",
       "      <td>5</td>\n",
       "      <td>USC00518838</td>\n",
       "      <td>UPPER WAHIAWA 874.3, HI US</td>\n",
       "      <td>21.4992</td>\n",
       "      <td>-158.0111</td>\n",
       "      <td>306.6</td>\n",
       "    </tr>\n",
       "  </tbody>\n",
       "</table>\n",
       "</div>"
      ],
      "text/plain": [
       "   id      station                                    name  latitude  \\\n",
       "0   1  USC00519397                    WAIKIKI 717.2, HI US   21.2716   \n",
       "1   2  USC00513117                    KANEOHE 838.1, HI US   21.4234   \n",
       "2   3  USC00514830  KUALOA RANCH HEADQUARTERS 886.9, HI US   21.5213   \n",
       "3   4  USC00517948                       PEARL CITY, HI US   21.3934   \n",
       "4   5  USC00518838              UPPER WAHIAWA 874.3, HI US   21.4992   \n",
       "\n",
       "   longitude  elevation  \n",
       "0  -157.8168        3.0  \n",
       "1  -157.8015       14.6  \n",
       "2  -157.8374        7.0  \n",
       "3  -157.9751       11.9  \n",
       "4  -158.0111      306.6  "
      ]
     },
     "execution_count": 11,
     "metadata": {},
     "output_type": "execute_result"
    }
   ],
   "source": [
    "# Print Station table to understand data you are working with.\n",
    "df_station = pd.read_sql('select * from station', engine)\n",
    "df_station.head()"
   ]
  },
  {
   "cell_type": "markdown",
   "metadata": {},
   "source": [
    "# Precipitation Analysis"
   ]
  },
  {
   "cell_type": "code",
   "execution_count": 12,
   "metadata": {},
   "outputs": [],
   "source": [
    "# Design a query to retrieve the last 12 months of precipitation data and plot the results. (Last date recorded is 2017-08-23, so use last 12 months of data in set: August 1, 2016 to August 1, 2017)\n",
    "prcp_query = session.query(measurement.date, measurement.prcp).filter(measurement.date.between('2016-08-01', '2017-08-01'))"
   ]
  },
  {
   "cell_type": "code",
   "execution_count": 13,
   "metadata": {},
   "outputs": [
    {
     "name": "stdout",
     "output_type": "stream",
     "text": [
      "            prcp\n",
      "date            \n",
      "2016-08-01  0.08\n",
      "2016-08-01  3.53\n",
      "2016-08-01   NaN\n",
      "2016-08-01  2.21\n",
      "2016-08-01  2.35\n",
      "2016-08-01  0.54\n",
      "2016-08-02  0.05\n",
      "2016-08-02  1.14\n",
      "2016-08-02  0.83\n",
      "2016-08-02  0.00\n",
      "2016-08-02  0.07\n",
      "2016-08-02  0.55\n",
      "2016-08-02  0.20\n",
      "2016-08-03  0.02\n",
      "2016-08-03  0.00\n",
      "2016-08-03   NaN\n",
      "2016-08-03  0.02\n",
      "2016-08-03  0.00\n",
      "2016-08-03  0.01\n",
      "2016-08-03  0.00\n",
      "2016-08-04   NaN\n",
      "2016-08-04  0.62\n",
      "2016-08-04  0.04\n",
      "2016-08-04  0.77\n",
      "2016-08-04  0.25\n",
      "2016-08-04  0.13\n",
      "2016-08-05   NaN\n",
      "2016-08-05  0.03\n",
      "2016-08-05  0.01\n",
      "2016-08-05  0.27\n",
      "...          ...\n",
      "2017-07-27  0.00\n",
      "2017-07-28  0.00\n",
      "2017-07-28  0.40\n",
      "2017-07-28  0.01\n",
      "2017-07-28  0.00\n",
      "2017-07-28  0.09\n",
      "2017-07-28  0.13\n",
      "2017-07-28  0.14\n",
      "2017-07-29  0.30\n",
      "2017-07-29  0.00\n",
      "2017-07-29  0.23\n",
      "2017-07-29  0.06\n",
      "2017-07-29  0.00\n",
      "2017-07-29  0.02\n",
      "2017-07-30  0.30\n",
      "2017-07-30  0.00\n",
      "2017-07-30  0.00\n",
      "2017-07-30  0.00\n",
      "2017-07-30  0.00\n",
      "2017-07-31   NaN\n",
      "2017-07-31  0.00\n",
      "2017-07-31   NaN\n",
      "2017-07-31  0.00\n",
      "2017-07-31  0.00\n",
      "2017-07-31  0.00\n",
      "2017-07-31  0.00\n",
      "2017-08-01  0.00\n",
      "2017-08-01  0.02\n",
      "2017-08-01  0.12\n",
      "2017-08-01   NaN\n",
      "\n",
      "[2285 rows x 1 columns]\n"
     ]
    }
   ],
   "source": [
    "# Save the query results as a Pandas DataFrame \n",
    "prcp_df = pd.DataFrame(prcp_query,columns=['date', 'prcp'])\n",
    "\n",
    "# Set the index to the date column\n",
    "prcp_df.set_index('date', inplace=True)\n",
    "\n",
    "# Sort the dataframe by date\n",
    "prcp_df = prcp_df.sort_values(by='date', ascending=True)\n",
    "\n",
    "print(prcp_df)"
   ]
  },
  {
   "cell_type": "code",
   "execution_count": 14,
   "metadata": {},
   "outputs": [
    {
     "data": {
      "image/png": "[encoded data removed]",
      "text/plain": [
       "<Figure size 720x360 with 1 Axes>"
      ]
     },
     "metadata": {
      "needs_background": "light"
     },
     "output_type": "display_data"
    }
   ],
   "source": [
    "# Use Pandas Plotting with Matplotlib to plot the data\n",
    "prcp_df.plot(title=\"Precipitation, 12 Months (08/01/16 - 08/01/17)\", figsize=(10, 5))\n",
    "plt.legend(loc='upper center')\n",
    "plt.savefig(\"precipitation.png\")\n",
    "plt.show()"
   ]
  },
  {
   "cell_type": "code",
   "execution_count": 15,
   "metadata": {},
   "outputs": [
    {
     "data": {
      "text/html": [
       "<div>\n",
       "<style scoped>\n",
       "    .dataframe tbody tr th:only-of-type {\n",
       "        vertical-align: middle;\n",
       "    }\n",
       "\n",
       "    .dataframe tbody tr th {\n",
       "        vertical-align: top;\n",
       "    }\n",
       "\n",
       "    .dataframe thead th {\n",
       "        text-align: right;\n",
       "    }\n",
       "</style>\n",
       "<table border=\"1\" class=\"dataframe\">\n",
       "  <thead>\n",
       "    <tr style=\"text-align: right;\">\n",
       "      <th></th>\n",
       "      <th>prcp</th>\n",
       "    </tr>\n",
       "  </thead>\n",
       "  <tbody>\n",
       "    <tr>\n",
       "      <th>count</th>\n",
       "      <td>2070.000000</td>\n",
       "    </tr>\n",
       "    <tr>\n",
       "      <th>mean</th>\n",
       "      <td>0.187353</td>\n",
       "    </tr>\n",
       "    <tr>\n",
       "      <th>std</th>\n",
       "      <td>0.474850</td>\n",
       "    </tr>\n",
       "    <tr>\n",
       "      <th>min</th>\n",
       "      <td>0.000000</td>\n",
       "    </tr>\n",
       "    <tr>\n",
       "      <th>25%</th>\n",
       "      <td>0.000000</td>\n",
       "    </tr>\n",
       "    <tr>\n",
       "      <th>50%</th>\n",
       "      <td>0.020000</td>\n",
       "    </tr>\n",
       "    <tr>\n",
       "      <th>75%</th>\n",
       "      <td>0.140000</td>\n",
       "    </tr>\n",
       "    <tr>\n",
       "      <th>max</th>\n",
       "      <td>6.700000</td>\n",
       "    </tr>\n",
       "  </tbody>\n",
       "</table>\n",
       "</div>"
      ],
      "text/plain": [
       "              prcp\n",
       "count  2070.000000\n",
       "mean      0.187353\n",
       "std       0.474850\n",
       "min       0.000000\n",
       "25%       0.000000\n",
       "50%       0.020000\n",
       "75%       0.140000\n",
       "max       6.700000"
      ]
     },
     "execution_count": 15,
     "metadata": {},
     "output_type": "execute_result"
    }
   ],
   "source": [
    "# Use Pandas to calcualte the summary statistics for the precipitation data\n",
    "prcp_df.describe()"
   ]
  },
  {
   "cell_type": "markdown",
   "metadata": {},
   "source": [
    "# Station Analysis"
   ]
  },
  {
   "cell_type": "code",
   "execution_count": 16,
   "metadata": {},
   "outputs": [
    {
     "name": "stdout",
     "output_type": "stream",
     "text": [
      "9\n"
     ]
    }
   ],
   "source": [
    "# Design a query to show how many stations are available in this dataset?\n",
    "unique_stations_query = session.query(measurement.station).distinct().count()\n",
    "print(unique_stations_query)"
   ]
  },
  {
   "cell_type": "code",
   "execution_count": 17,
   "metadata": {},
   "outputs": [
    {
     "name": "stdout",
     "output_type": "stream",
     "text": [
      "[('USC00519281', 2772), ('USC00519397', 2724), ('USC00513117', 2709), ('USC00519523', 2669), ('USC00516128', 2612), ('USC00514830', 2202), ('USC00511918', 1979), ('USC00517948', 1372), ('USC00518838', 511)]\n"
     ]
    }
   ],
   "source": [
    "# What are the most active stations? (i.e. what stations have the most rows)?\n",
    "# List the stations and the counts in descending order by using group by.\n",
    "\n",
    "stations_byactivity_query = session.query(measurement.station, func.count(measurement.station)).group_by(measurement.station).order_by(func.count(measurement.station).desc()).all()\n",
    "print(stations_byactivity_query)"
   ]
  },
  {
   "cell_type": "code",
   "execution_count": 18,
   "metadata": {},
   "outputs": [
    {
     "name": "stdout",
     "output_type": "stream",
     "text": [
      "The station with the highest number of observations is: USC00519281.\n"
     ]
    }
   ],
   "source": [
    "# Which station has the highest number of observations?\n",
    "most_active_station = stations_byactivity_query[0][0]\n",
    "\n",
    "print(f\"The station with the highest number of observations is: {most_active_station}.\")"
   ]
  },
  {
   "cell_type": "code",
   "execution_count": 19,
   "metadata": {},
   "outputs": [
    {
     "name": "stdout",
     "output_type": "stream",
     "text": [
      "[(54.0, 85.0, 71.66378066378067)]\n"
     ]
    }
   ],
   "source": [
    "# Using the station id from the previous query, calculate the lowest temperature recorded (min), \n",
    "# highest temperature recorded (max), and average temperature (avg) for the most active station, 'USC00519281'.\n",
    "\n",
    "most_active_station_temps = session.query(func.min(measurement.tobs), func.max(measurement.tobs), func.avg(measurement.tobs)).filter(measurement.station == \"USC00519281\").all()\n",
    "print(most_active_station_temps)"
   ]
  },
  {
   "cell_type": "code",
   "execution_count": 20,
   "metadata": {},
   "outputs": [
    {
     "name": "stdout",
     "output_type": "stream",
     "text": [
      "Temperatures for Most Active Station (USC00519281)\n",
      "Lowest: 54.0, Highest: 85.0, Average: 71.66378066378067\n"
     ]
    }
   ],
   "source": [
    "# Now that you've tested the query, print results.\n",
    "\n",
    "print(f\"Temperatures for Most Active Station (USC00519281)\")\n",
    "print(f\"Lowest: {most_active_station_temps[0][0]}, Highest: {most_active_station_temps[0][1]}, Average: {most_active_station_temps[0][2]}\")\n"
   ]
  },
  {
   "cell_type": "code",
   "execution_count": 21,
   "metadata": {},
   "outputs": [],
   "source": [
    "# Choose the station with the highest number of temperature observations.\n",
    "# Query the last 12 months of temperature observation data for this station\n",
    "\n",
    "from sqlalchemy import and_\n",
    "mostactive_12motemps_query = session.query(measurement.station, measurement.tobs).filter(and_(measurement.date.between('2016-08-01', '2017-08-01'), measurement.station == 'USC00519281'))"
   ]
  },
  {
   "cell_type": "code",
   "execution_count": 27,
   "metadata": {},
   "outputs": [
    {
     "name": "stdout",
     "output_type": "stream",
     "text": [
      "         station  tobs\n",
      "0    USC00519281  76.0\n",
      "1    USC00519281  76.0\n",
      "2    USC00519281  77.0\n",
      "3    USC00519281  77.0\n",
      "4    USC00519281  81.0\n",
      "5    USC00519281  78.0\n",
      "6    USC00519281  78.0\n",
      "7    USC00519281  81.0\n",
      "8    USC00519281  81.0\n",
      "9    USC00519281  82.0\n",
      "10   USC00519281  80.0\n",
      "11   USC00519281  76.0\n",
      "12   USC00519281  80.0\n",
      "13   USC00519281  76.0\n",
      "14   USC00519281  75.0\n",
      "15   USC00519281  74.0\n",
      "16   USC00519281  82.0\n",
      "17   USC00519281  80.0\n",
      "18   USC00519281  79.0\n",
      "19   USC00519281  81.0\n",
      "20   USC00519281  79.0\n",
      "21   USC00519281  78.0\n",
      "22   USC00519281  77.0\n",
      "23   USC00519281  77.0\n",
      "24   USC00519281  80.0\n",
      "25   USC00519281  80.0\n",
      "26   USC00519281  75.0\n",
      "27   USC00519281  73.0\n",
      "28   USC00519281  78.0\n",
      "29   USC00519281  77.0\n",
      "..           ...   ...\n",
      "335  USC00519281  81.0\n",
      "336  USC00519281  76.0\n",
      "337  USC00519281  78.0\n",
      "338  USC00519281  77.0\n",
      "339  USC00519281  74.0\n",
      "340  USC00519281  75.0\n",
      "341  USC00519281  78.0\n",
      "342  USC00519281  78.0\n",
      "343  USC00519281  69.0\n",
      "344  USC00519281  72.0\n",
      "345  USC00519281  74.0\n",
      "346  USC00519281  74.0\n",
      "347  USC00519281  76.0\n",
      "348  USC00519281  80.0\n",
      "349  USC00519281  80.0\n",
      "350  USC00519281  76.0\n",
      "351  USC00519281  76.0\n",
      "352  USC00519281  76.0\n",
      "353  USC00519281  77.0\n",
      "354  USC00519281  77.0\n",
      "355  USC00519281  77.0\n",
      "356  USC00519281  82.0\n",
      "357  USC00519281  75.0\n",
      "358  USC00519281  77.0\n",
      "359  USC00519281  75.0\n",
      "360  USC00519281  76.0\n",
      "361  USC00519281  81.0\n",
      "362  USC00519281  82.0\n",
      "363  USC00519281  81.0\n",
      "364  USC00519281  76.0\n",
      "\n",
      "[365 rows x 2 columns]\n"
     ]
    }
   ],
   "source": [
    "# Save the query results as a Pandas DataFrame \n",
    "mostactive_12motemps_query_df = pd.DataFrame(mostactive_12motemps_query,columns=['station', 'tobs'])\n",
    "\n",
    "# Set the index to the date column\n",
    "#mostactive_12motemps_query_df.set_index('date', inplace=True)\n",
    "\n",
    "# Sort the dataframe by date\n",
    "#mostactive_12motemps_query_df = mostactive_12motemps_query_df.sort_values(by='date', ascending=True)\n",
    "\n",
    "print(mostactive_12motemps_query_df)"
   ]
  },
  {
   "cell_type": "code",
   "execution_count": 28,
   "metadata": {},
   "outputs": [
    {
     "data": {
      "image/png": "[encoded data removed]",
      "text/plain": [
       "<Figure size 432x288 with 1 Axes>"
      ]
     },
     "metadata": {
      "needs_background": "light"
     },
     "output_type": "display_data"
    },
    {
     "data": {
      "text/plain": [
       "<Figure size 432x288 with 0 Axes>"
      ]
     },
     "metadata": {},
     "output_type": "display_data"
    }
   ],
   "source": [
    "#  Plot the results as a histogram. Use .hist and 1 bin for each month.\n",
    "mostactive_12motemps_query_df.plot.hist(bins=12, title=\"Temperature vs Observations by Month\")\n",
    "plt.tight_layout()\n",
    "plt.show()\n",
    "plt.savefig(\"temps_vs_observations.png\")"
   ]
  },
  {
   "cell_type": "markdown",
   "metadata": {},
   "source": [
    "# Climate App"
   ]
  },
  {
   "cell_type": "code",
   "execution_count": null,
   "metadata": {},
   "outputs": [],
   "source": [
    "# Now that you have completed your initial analysis, design a Flask API based on the queries that you have just developed. Use FLASK to create your routes.\n",
    "\n",
    "\n",
    "Routes\n",
    "/\n",
    "\n",
    "Home page.\n",
    "\n",
    "List all routes that are available.\n",
    "\n",
    "/api/v1.0/precipitation\n",
    "\n",
    "\n",
    "Convert the query results to a Dictionary using date as the key and prcp as the value.\n",
    "\n",
    "\n",
    "Return the JSON representation of your dictionary.\n",
    "\n",
    "\n",
    "/api/v1.0/stations\n",
    "Return a JSON list of stations from the dataset.\n",
    "\n",
    "\n",
    "\n",
    "/api/v1.0/tobs\n",
    "\n",
    "query for the dates and temperature observations from a year from the last data point.\n",
    "Return a JSON list of Temperature Observations (tobs) for the previous year.\n",
    "\n",
    "\n",
    "\n",
    "/api/v1.0/<start> and /api/v1.0/<start>/<end>\n",
    "\n",
    "\n",
    "Return a JSON list of the minimum temperature, the average temperature, and the max temperature for a given start or start-end range.\n",
    "\n",
    "\n",
    "When given the start only, calculate TMIN, TAVG, and TMAX for all dates greater than and equal to the start date.\n",
    "\n",
    "\n",
    "When given the start and the end date, calculate the TMIN, TAVG, and TMAX for dates between the start and end date inclusive.\n",
    "\n",
    "\n",
    "\n",
    "\n",
    "\n"
   ]
  },
  {
   "cell_type": "code",
   "execution_count": null,
   "metadata": {},
   "outputs": [],
   "source": [
    "# 1. Import Flask\n",
    "from flask import Flask\n",
    "\n",
    "# 2. Create an app, being sure to pass __name__ (boilerplate)\n",
    "app = Flask(__name__)\n",
    "\n",
    "# 3. Define what to do when a user hits the index route\n",
    "@app.route(\"/\")\n",
    "def home():\n",
    "    print(\"Server received request for 'Hawaii Climate' page...\")\n",
    "    return \"Welcome to my 'Hawaii Climate' page!\"\n",
    "\n",
    "# 4. Define what to do when a user hits the /precipitation route\n",
    "@app.route(\"/api/v1.0/precipitation\")\n",
    "def about():\n",
    "    print(\"Server received request for 'Precipitation' page...\")\n",
    "    return \"Welcome to my 'Precipitation' page!\"\n",
    "\n",
    "if __name__ == \"__main__\":\n",
    "    app.run(debug=True)\n"
   ]
  },
  {
   "cell_type": "code",
   "execution_count": null,
   "metadata": {},
   "outputs": [],
   "source": [
    "# This function called `calc_temps` will accept start date and end date in the format '%Y-%m-%d' \n",
    "# and return the minimum, average, and maximum temperatures for that range of dates\n",
    "def calc_temps(start_date, end_date):\n",
    "    \"\"\"TMIN, TAVG, and TMAX for a list of dates.\n",
    "    \n",
    "    Args:\n",
    "        start_date (string): A date string in the format %Y-%m-%d\n",
    "        end_date (string): A date string in the format %Y-%m-%d\n",
    "        \n",
    "    Returns:\n",
    "        TMIN, TAVE, and TMAX\n",
    "    \"\"\"\n",
    "    \n",
    "    return session.query(func.min(measurement.tobs), func.avg(measurement.tobs), func.max(measurement.tobs)).\\\n",
    "        filter(measurement.date >= start_date).filter(measurement.date <= end_date).all()\n",
    "\n",
    "# function usage example\n",
    "print(calc_temps('2012-02-28', '2012-03-05'))"
   ]
  },
  {
   "cell_type": "code",
   "execution_count": null,
   "metadata": {},
   "outputs": [],
   "source": [
    "# Use your previous function `calc_temps` to calculate the tmin, tavg, and tmax \n",
    "# for your trip using the previous year's data for those same dates.\n",
    "trip = calc_temps('2017-08-01', '2017-08-15')\n",
    "print(trip)"
   ]
  },
  {
   "cell_type": "code",
   "execution_count": null,
   "metadata": {},
   "outputs": [],
   "source": [
    "# Put data into a data frame using Pandas\n",
    "trip_temp_df = pd.DataFrame(trip, columns=['tmin', 'tavg', 'tmax'])\n",
    "trip_temp_df"
   ]
  },
  {
   "cell_type": "code",
   "execution_count": null,
   "metadata": {},
   "outputs": [],
   "source": [
    "# Plot the results from your previous query as a bar chart. \n",
    "# Use \"Trip Avg Temp\" as your Title\n",
    "# Use the average temperature for the y value\n",
    "# Use the peak-to-peak (tmax-tmin) value as the y error bar (yerr)\n"
   ]
  },
  {
   "cell_type": "code",
   "execution_count": null,
   "metadata": {},
   "outputs": [],
   "source": [
    "# Calculate the total amount of rainfall per weather station for your trip dates using the previous year's matching dates.\n",
    "# Sort this in descending order by precipitation amount and list the station, name, latitude, longitude, and elevation\n",
    "\n"
   ]
  }
 ],
 "metadata": {
  "kernel_info": {
   "name": "python3"
  },
  "kernelspec": {
   "display_name": "Python 3",
   "language": "python",
   "name": "python3"
  },
  "language_info": {
   "codemirror_mode": {
    "name": "ipython",
    "version": 3
   },
   "file_extension": ".py",
   "mimetype": "text/x-python",
   "name": "python",
   "nbconvert_exporter": "python",
   "pygments_lexer": "ipython3",
   "version": "3.7.3"
  },
  "nteract": {
   "version": "0.12.3"
  },
  "varInspector": {
   "cols": {
    "lenName": 16,
    "lenType": 16,
    "lenVar": 40
   },
   "kernels_config": {
    "python": {
     "delete_cmd_postfix": "",
     "delete_cmd_prefix": "del ",
     "library": "var_list.py",
     "varRefreshCmd": "print(var_dic_list())"
    },
    "r": {
     "delete_cmd_postfix": ") ",
     "delete_cmd_prefix": "rm(",
     "library": "var_list.r",
     "varRefreshCmd": "cat(var_dic_list()) "
    }
   },
   "types_to_exclude": [
    "module",
    "function",
    "builtin_function_or_method",
    "instance",
    "_Feature"
   ],
   "window_display": false
  }
 },
 "nbformat": 4,
 "nbformat_minor": 2
}
